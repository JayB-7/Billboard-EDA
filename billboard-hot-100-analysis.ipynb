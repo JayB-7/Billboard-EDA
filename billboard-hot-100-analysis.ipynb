{
 "cells": [
  {
   "cell_type": "code",
   "execution_count": 1,
   "id": "innovative-underground",
   "metadata": {
    "_cell_guid": "b1076dfc-b9ad-4769-8c92-a6c4dae69d19",
    "_uuid": "8f2839f25d086af736a60e9eeb907d3b93b6e0e5",
    "execution": {
     "iopub.execute_input": "2021-05-24T16:26:50.751531Z",
     "iopub.status.busy": "2021-05-24T16:26:50.750872Z",
     "iopub.status.idle": "2021-05-24T16:26:50.763279Z",
     "shell.execute_reply": "2021-05-24T16:26:50.763834Z",
     "shell.execute_reply.started": "2021-05-24T16:21:49.345837Z"
    },
    "papermill": {
     "duration": 0.058108,
     "end_time": "2021-05-24T16:26:50.764143",
     "exception": false,
     "start_time": "2021-05-24T16:26:50.706035",
     "status": "completed"
    },
    "tags": []
   },
   "outputs": [
    {
     "name": "stdout",
     "output_type": "stream",
     "text": [
      "/kaggle/input/billboard-the-hot-100-songs/charts.csv\n"
     ]
    }
   ],
   "source": [
    "# This Python 3 environment comes with many helpful analytics libraries installed\n",
    "# It is defined by the kaggle/python Docker image: https://github.com/kaggle/docker-python\n",
    "# For example, here's several helpful packages to load\n",
    "\n",
    "import numpy as np # linear algebra\n",
    "import pandas as pd # data processing, CSV file I/O (e.g. pd.read_csv)\n",
    "\n",
    "# Input data files are available in the read-only \"../input/\" directory\n",
    "# For example, running this (by clicking run or pressing Shift+Enter) will list all files under the input directory\n",
    "\n",
    "import os\n",
    "for dirname, _, filenames in os.walk('/kaggle/input'):\n",
    "    for filename in filenames:\n",
    "        print(os.path.join(dirname, filename))\n",
    "\n",
    "# You can write up to 20GB to the current directory (/kaggle/working/) that gets preserved as output when you create a version using \"Save & Run All\" \n",
    "# You can also write temporary files to /kaggle/temp/, but they won't be saved outside of the current session"
   ]
  },
  {
   "cell_type": "markdown",
   "id": "supported-refrigerator",
   "metadata": {
    "papermill": {
     "duration": 0.029294,
     "end_time": "2021-05-24T16:26:50.824132",
     "exception": false,
     "start_time": "2021-05-24T16:26:50.794838",
     "status": "completed"
    },
    "tags": []
   },
   "source": [
    "# Using the relevant data and importing libraries"
   ]
  },
  {
   "cell_type": "code",
   "execution_count": 2,
   "id": "operational-jesus",
   "metadata": {
    "execution": {
     "iopub.execute_input": "2021-05-24T16:26:50.888240Z",
     "iopub.status.busy": "2021-05-24T16:26:50.887432Z",
     "iopub.status.idle": "2021-05-24T16:26:51.772134Z",
     "shell.execute_reply": "2021-05-24T16:26:51.772927Z",
     "shell.execute_reply.started": "2021-05-24T16:21:49.358176Z"
    },
    "papermill": {
     "duration": 0.919223,
     "end_time": "2021-05-24T16:26:51.773204",
     "exception": false,
     "start_time": "2021-05-24T16:26:50.853981",
     "status": "completed"
    },
    "tags": []
   },
   "outputs": [],
   "source": [
    "import seaborn as sns\n",
    "import matplotlib.pyplot as plt"
   ]
  },
  {
   "cell_type": "code",
   "execution_count": 3,
   "id": "ordinary-handle",
   "metadata": {
    "execution": {
     "iopub.execute_input": "2021-05-24T16:26:51.852481Z",
     "iopub.status.busy": "2021-05-24T16:26:51.851322Z",
     "iopub.status.idle": "2021-05-24T16:26:52.448029Z",
     "shell.execute_reply": "2021-05-24T16:26:52.448541Z",
     "shell.execute_reply.started": "2021-05-24T16:21:49.371593Z"
    },
    "papermill": {
     "duration": 0.636094,
     "end_time": "2021-05-24T16:26:52.448729",
     "exception": false,
     "start_time": "2021-05-24T16:26:51.812635",
     "status": "completed"
    },
    "tags": []
   },
   "outputs": [
    {
     "data": {
      "text/html": [
       "<div>\n",
       "<style scoped>\n",
       "    .dataframe tbody tr th:only-of-type {\n",
       "        vertical-align: middle;\n",
       "    }\n",
       "\n",
       "    .dataframe tbody tr th {\n",
       "        vertical-align: top;\n",
       "    }\n",
       "\n",
       "    .dataframe thead th {\n",
       "        text-align: right;\n",
       "    }\n",
       "</style>\n",
       "<table border=\"1\" class=\"dataframe\">\n",
       "  <thead>\n",
       "    <tr style=\"text-align: right;\">\n",
       "      <th></th>\n",
       "      <th>date</th>\n",
       "      <th>rank</th>\n",
       "      <th>song</th>\n",
       "      <th>artist</th>\n",
       "      <th>last-week</th>\n",
       "      <th>peak-rank</th>\n",
       "      <th>weeks-on-board</th>\n",
       "    </tr>\n",
       "  </thead>\n",
       "  <tbody>\n",
       "    <tr>\n",
       "      <th>0</th>\n",
       "      <td>1958-08-04</td>\n",
       "      <td>1</td>\n",
       "      <td>Poor Little Fool</td>\n",
       "      <td>Ricky Nelson</td>\n",
       "      <td>NaN</td>\n",
       "      <td>1</td>\n",
       "      <td>1</td>\n",
       "    </tr>\n",
       "    <tr>\n",
       "      <th>1</th>\n",
       "      <td>1958-08-04</td>\n",
       "      <td>2</td>\n",
       "      <td>Patricia</td>\n",
       "      <td>Perez Prado And His Orchestra</td>\n",
       "      <td>NaN</td>\n",
       "      <td>2</td>\n",
       "      <td>1</td>\n",
       "    </tr>\n",
       "    <tr>\n",
       "      <th>2</th>\n",
       "      <td>1958-08-04</td>\n",
       "      <td>3</td>\n",
       "      <td>Splish Splash</td>\n",
       "      <td>Bobby Darin</td>\n",
       "      <td>NaN</td>\n",
       "      <td>3</td>\n",
       "      <td>1</td>\n",
       "    </tr>\n",
       "    <tr>\n",
       "      <th>3</th>\n",
       "      <td>1958-08-04</td>\n",
       "      <td>4</td>\n",
       "      <td>Hard Headed Woman</td>\n",
       "      <td>Elvis Presley With The Jordanaires</td>\n",
       "      <td>NaN</td>\n",
       "      <td>4</td>\n",
       "      <td>1</td>\n",
       "    </tr>\n",
       "    <tr>\n",
       "      <th>4</th>\n",
       "      <td>1958-08-04</td>\n",
       "      <td>5</td>\n",
       "      <td>When</td>\n",
       "      <td>Kalin Twins</td>\n",
       "      <td>NaN</td>\n",
       "      <td>5</td>\n",
       "      <td>1</td>\n",
       "    </tr>\n",
       "  </tbody>\n",
       "</table>\n",
       "</div>"
      ],
      "text/plain": [
       "         date  rank               song                              artist  \\\n",
       "0  1958-08-04     1   Poor Little Fool                        Ricky Nelson   \n",
       "1  1958-08-04     2           Patricia       Perez Prado And His Orchestra   \n",
       "2  1958-08-04     3      Splish Splash                         Bobby Darin   \n",
       "3  1958-08-04     4  Hard Headed Woman  Elvis Presley With The Jordanaires   \n",
       "4  1958-08-04     5               When                         Kalin Twins   \n",
       "\n",
       "   last-week  peak-rank  weeks-on-board  \n",
       "0        NaN          1               1  \n",
       "1        NaN          2               1  \n",
       "2        NaN          3               1  \n",
       "3        NaN          4               1  \n",
       "4        NaN          5               1  "
      ]
     },
     "execution_count": 3,
     "metadata": {},
     "output_type": "execute_result"
    }
   ],
   "source": [
    "df = pd.read_csv('../input/billboard-the-hot-100-songs/charts.csv')\n",
    "df.head()"
   ]
  },
  {
   "cell_type": "markdown",
   "id": "dynamic-brief",
   "metadata": {
    "papermill": {
     "duration": 0.02989,
     "end_time": "2021-05-24T16:26:52.510061",
     "exception": false,
     "start_time": "2021-05-24T16:26:52.480171",
     "status": "completed"
    },
    "tags": []
   },
   "source": [
    "### **Checking if any null value exists**"
   ]
  },
  {
   "cell_type": "code",
   "execution_count": 4,
   "id": "equivalent-convergence",
   "metadata": {
    "execution": {
     "iopub.execute_input": "2021-05-24T16:26:52.575814Z",
     "iopub.status.busy": "2021-05-24T16:26:52.574885Z",
     "iopub.status.idle": "2021-05-24T16:26:52.673212Z",
     "shell.execute_reply": "2021-05-24T16:26:52.672676Z",
     "shell.execute_reply.started": "2021-05-24T16:21:49.681112Z"
    },
    "papermill": {
     "duration": 0.13314,
     "end_time": "2021-05-24T16:26:52.673353",
     "exception": false,
     "start_time": "2021-05-24T16:26:52.540213",
     "status": "completed"
    },
    "tags": []
   },
   "outputs": [
    {
     "data": {
      "text/plain": [
       "date                  0\n",
       "rank                  0\n",
       "song                  0\n",
       "artist                0\n",
       "last-week         31914\n",
       "peak-rank             0\n",
       "weeks-on-board        0\n",
       "dtype: int64"
      ]
     },
     "execution_count": 4,
     "metadata": {},
     "output_type": "execute_result"
    }
   ],
   "source": [
    "df.isnull().sum()"
   ]
  },
  {
   "cell_type": "code",
   "execution_count": 5,
   "id": "retained-palace",
   "metadata": {
    "execution": {
     "iopub.execute_input": "2021-05-24T16:26:52.740401Z",
     "iopub.status.busy": "2021-05-24T16:26:52.739731Z",
     "iopub.status.idle": "2021-05-24T16:26:52.742168Z",
     "shell.execute_reply": "2021-05-24T16:26:52.742747Z",
     "shell.execute_reply.started": "2021-05-24T16:21:49.778123Z"
    },
    "papermill": {
     "duration": 0.038785,
     "end_time": "2021-05-24T16:26:52.742914",
     "exception": false,
     "start_time": "2021-05-24T16:26:52.704129",
     "status": "completed"
    },
    "tags": []
   },
   "outputs": [
    {
     "data": {
      "text/plain": [
       "(327587, 7)"
      ]
     },
     "execution_count": 5,
     "metadata": {},
     "output_type": "execute_result"
    }
   ],
   "source": [
    "df.shape"
   ]
  },
  {
   "cell_type": "code",
   "execution_count": 6,
   "id": "rough-dominican",
   "metadata": {
    "execution": {
     "iopub.execute_input": "2021-05-24T16:26:52.807927Z",
     "iopub.status.busy": "2021-05-24T16:26:52.807276Z",
     "iopub.status.idle": "2021-05-24T16:26:52.917417Z",
     "shell.execute_reply": "2021-05-24T16:26:52.916744Z",
     "shell.execute_reply.started": "2021-05-24T16:21:49.788017Z"
    },
    "papermill": {
     "duration": 0.143672,
     "end_time": "2021-05-24T16:26:52.917578",
     "exception": false,
     "start_time": "2021-05-24T16:26:52.773906",
     "status": "completed"
    },
    "tags": []
   },
   "outputs": [
    {
     "name": "stdout",
     "output_type": "stream",
     "text": [
      "<class 'pandas.core.frame.DataFrame'>\n",
      "RangeIndex: 327587 entries, 0 to 327586\n",
      "Data columns (total 7 columns):\n",
      " #   Column          Non-Null Count   Dtype  \n",
      "---  ------          --------------   -----  \n",
      " 0   date            327587 non-null  object \n",
      " 1   rank            327587 non-null  int64  \n",
      " 2   song            327587 non-null  object \n",
      " 3   artist          327587 non-null  object \n",
      " 4   last-week       295673 non-null  float64\n",
      " 5   peak-rank       327587 non-null  int64  \n",
      " 6   weeks-on-board  327587 non-null  int64  \n",
      "dtypes: float64(1), int64(3), object(3)\n",
      "memory usage: 17.5+ MB\n"
     ]
    }
   ],
   "source": [
    "df.info()"
   ]
  },
  {
   "cell_type": "markdown",
   "id": "union-deficit",
   "metadata": {
    "papermill": {
     "duration": 0.031331,
     "end_time": "2021-05-24T16:26:52.980262",
     "exception": false,
     "start_time": "2021-05-24T16:26:52.948931",
     "status": "completed"
    },
    "tags": []
   },
   "source": [
    " ### Visualization of the null data"
   ]
  },
  {
   "cell_type": "code",
   "execution_count": 7,
   "id": "economic-attack",
   "metadata": {
    "execution": {
     "iopub.execute_input": "2021-05-24T16:26:53.046104Z",
     "iopub.status.busy": "2021-05-24T16:26:53.045466Z",
     "iopub.status.idle": "2021-05-24T16:26:55.324048Z",
     "shell.execute_reply": "2021-05-24T16:26:55.323352Z",
     "shell.execute_reply.started": "2021-05-24T16:21:49.900802Z"
    },
    "papermill": {
     "duration": 2.312428,
     "end_time": "2021-05-24T16:26:55.324199",
     "exception": false,
     "start_time": "2021-05-24T16:26:53.011771",
     "status": "completed"
    },
    "tags": []
   },
   "outputs": [
    {
     "data": {
      "text/plain": [
       "<AxesSubplot:>"
      ]
     },
     "execution_count": 7,
     "metadata": {},
     "output_type": "execute_result"
    },
    {
     "data": {
      "image/png": "[encoded data removed]",
      "text/plain": [
       "<Figure size 576x576 with 1 Axes>"
      ]
     },
     "metadata": {
      "needs_background": "light"
     },
     "output_type": "display_data"
    }
   ],
   "source": [
    "plt.figure(figsize=(8,8))\n",
    "sns.heatmap(df.isnull(),cbar=False,yticklabels=False)"
   ]
  },
  {
   "cell_type": "markdown",
   "id": "exotic-contribution",
   "metadata": {
    "papermill": {
     "duration": 0.031681,
     "end_time": "2021-05-24T16:26:55.388982",
     "exception": false,
     "start_time": "2021-05-24T16:26:55.357301",
     "status": "completed"
    },
    "tags": []
   },
   "source": [
    "### As the null value shows that the song is a new entry we replace the null values with zero"
   ]
  },
  {
   "cell_type": "code",
   "execution_count": 8,
   "id": "original-saturn",
   "metadata": {
    "execution": {
     "iopub.execute_input": "2021-05-24T16:26:55.461694Z",
     "iopub.status.busy": "2021-05-24T16:26:55.460445Z",
     "iopub.status.idle": "2021-05-24T16:26:57.651421Z",
     "shell.execute_reply": "2021-05-24T16:26:57.650775Z",
     "shell.execute_reply.started": "2021-05-24T16:21:52.082163Z"
    },
    "papermill": {
     "duration": 2.230417,
     "end_time": "2021-05-24T16:26:57.651584",
     "exception": false,
     "start_time": "2021-05-24T16:26:55.421167",
     "status": "completed"
    },
    "tags": []
   },
   "outputs": [
    {
     "data": {
      "text/plain": [
       "<AxesSubplot:>"
      ]
     },
     "execution_count": 8,
     "metadata": {},
     "output_type": "execute_result"
    },
    {
     "data": {
      "image/png": "[encoded data removed]",
      "text/plain": [
       "<Figure size 576x576 with 1 Axes>"
      ]
     },
     "metadata": {
      "needs_background": "light"
     },
     "output_type": "display_data"
    }
   ],
   "source": [
    "plt.figure(figsize=(8,8))\n",
    "df['last-week'].fillna(0,inplace=True)\n",
    "sns.heatmap(df.isnull(),cbar=False,yticklabels=False)"
   ]
  },
  {
   "cell_type": "markdown",
   "id": "certified-mayor",
   "metadata": {
    "papermill": {
     "duration": 0.032811,
     "end_time": "2021-05-24T16:26:57.717664",
     "exception": false,
     "start_time": "2021-05-24T16:26:57.684853",
     "status": "completed"
    },
    "tags": []
   },
   "source": [
    "### The null values are hence removed"
   ]
  },
  {
   "cell_type": "markdown",
   "id": "cheap-medicare",
   "metadata": {
    "papermill": {
     "duration": 0.03288,
     "end_time": "2021-05-24T16:26:57.784301",
     "exception": false,
     "start_time": "2021-05-24T16:26:57.751421",
     "status": "completed"
    },
    "tags": []
   },
   "source": [
    "### Converting datatype of Date"
   ]
  },
  {
   "cell_type": "code",
   "execution_count": 9,
   "id": "regular-pacific",
   "metadata": {
    "execution": {
     "iopub.execute_input": "2021-05-24T16:26:57.874964Z",
     "iopub.status.busy": "2021-05-24T16:26:57.860798Z",
     "iopub.status.idle": "2021-05-24T16:26:57.925906Z",
     "shell.execute_reply": "2021-05-24T16:26:57.925267Z",
     "shell.execute_reply.started": "2021-05-24T16:21:54.216241Z"
    },
    "papermill": {
     "duration": 0.108505,
     "end_time": "2021-05-24T16:26:57.926052",
     "exception": false,
     "start_time": "2021-05-24T16:26:57.817547",
     "status": "completed"
    },
    "tags": []
   },
   "outputs": [],
   "source": [
    "df['date'] = pd.to_datetime(df['date'])"
   ]
  },
  {
   "cell_type": "markdown",
   "id": "competent-acrylic",
   "metadata": {
    "papermill": {
     "duration": 0.036496,
     "end_time": "2021-05-24T16:26:57.996222",
     "exception": false,
     "start_time": "2021-05-24T16:26:57.959726",
     "status": "completed"
    },
    "tags": []
   },
   "source": [
    "## Finding the Top 15 Artists with most number 1 appearances"
   ]
  },
  {
   "cell_type": "code",
   "execution_count": 10,
   "id": "incident-dayton",
   "metadata": {
    "execution": {
     "iopub.execute_input": "2021-05-24T16:26:58.069943Z",
     "iopub.status.busy": "2021-05-24T16:26:58.069260Z",
     "iopub.status.idle": "2021-05-24T16:26:58.102677Z",
     "shell.execute_reply": "2021-05-24T16:26:58.103171Z",
     "shell.execute_reply.started": "2021-05-24T16:21:54.281559Z"
    },
    "papermill": {
     "duration": 0.072512,
     "end_time": "2021-05-24T16:26:58.103341",
     "exception": false,
     "start_time": "2021-05-24T16:26:58.030829",
     "status": "completed"
    },
    "tags": []
   },
   "outputs": [
    {
     "data": {
      "text/html": [
       "<div>\n",
       "<style scoped>\n",
       "    .dataframe tbody tr th:only-of-type {\n",
       "        vertical-align: middle;\n",
       "    }\n",
       "\n",
       "    .dataframe tbody tr th {\n",
       "        vertical-align: top;\n",
       "    }\n",
       "\n",
       "    .dataframe thead th {\n",
       "        text-align: right;\n",
       "    }\n",
       "</style>\n",
       "<table border=\"1\" class=\"dataframe\">\n",
       "  <thead>\n",
       "    <tr style=\"text-align: right;\">\n",
       "      <th></th>\n",
       "      <th>artist</th>\n",
       "    </tr>\n",
       "  </thead>\n",
       "  <tbody>\n",
       "    <tr>\n",
       "      <th>Mariah Carey</th>\n",
       "      <td>65</td>\n",
       "    </tr>\n",
       "    <tr>\n",
       "      <th>The Beatles</th>\n",
       "      <td>54</td>\n",
       "    </tr>\n",
       "    <tr>\n",
       "      <th>Boyz II Men</th>\n",
       "      <td>34</td>\n",
       "    </tr>\n",
       "    <tr>\n",
       "      <th>Madonna</th>\n",
       "      <td>32</td>\n",
       "    </tr>\n",
       "    <tr>\n",
       "      <th>Whitney Houston</th>\n",
       "      <td>31</td>\n",
       "    </tr>\n",
       "    <tr>\n",
       "      <th>Drake</th>\n",
       "      <td>31</td>\n",
       "    </tr>\n",
       "    <tr>\n",
       "      <th>Michael Jackson</th>\n",
       "      <td>30</td>\n",
       "    </tr>\n",
       "    <tr>\n",
       "      <th>The Black Eyed Peas</th>\n",
       "      <td>28</td>\n",
       "    </tr>\n",
       "    <tr>\n",
       "      <th>Bee Gees</th>\n",
       "      <td>27</td>\n",
       "    </tr>\n",
       "    <tr>\n",
       "      <th>Adele</th>\n",
       "      <td>24</td>\n",
       "    </tr>\n",
       "    <tr>\n",
       "      <th>Elton John</th>\n",
       "      <td>23</td>\n",
       "    </tr>\n",
       "    <tr>\n",
       "      <th>Usher</th>\n",
       "      <td>22</td>\n",
       "    </tr>\n",
       "    <tr>\n",
       "      <th>Janet Jackson</th>\n",
       "      <td>21</td>\n",
       "    </tr>\n",
       "    <tr>\n",
       "      <th>Elvis Presley With The Jordanaires</th>\n",
       "      <td>21</td>\n",
       "    </tr>\n",
       "    <tr>\n",
       "      <th>The Supremes</th>\n",
       "      <td>19</td>\n",
       "    </tr>\n",
       "  </tbody>\n",
       "</table>\n",
       "</div>"
      ],
      "text/plain": [
       "                                    artist\n",
       "Mariah Carey                            65\n",
       "The Beatles                             54\n",
       "Boyz II Men                             34\n",
       "Madonna                                 32\n",
       "Whitney Houston                         31\n",
       "Drake                                   31\n",
       "Michael Jackson                         30\n",
       "The Black Eyed Peas                     28\n",
       "Bee Gees                                27\n",
       "Adele                                   24\n",
       "Elton John                              23\n",
       "Usher                                   22\n",
       "Janet Jackson                           21\n",
       "Elvis Presley With The Jordanaires      21\n",
       "The Supremes                            19"
      ]
     },
     "execution_count": 10,
     "metadata": {},
     "output_type": "execute_result"
    }
   ],
   "source": [
    "most_1_app = pd.DataFrame(df[df['rank']==1]['artist'].value_counts())\n",
    "most_1_app.head(15)"
   ]
  },
  {
   "cell_type": "markdown",
   "id": "controlling-oakland",
   "metadata": {
    "papermill": {
     "duration": 0.033707,
     "end_time": "2021-05-24T16:26:58.170555",
     "exception": false,
     "start_time": "2021-05-24T16:26:58.136848",
     "status": "completed"
    },
    "tags": []
   },
   "source": [
    "# Data Analysis on Taylor Swift Songs"
   ]
  },
  {
   "cell_type": "markdown",
   "id": "authentic-turning",
   "metadata": {
    "papermill": {
     "duration": 0.03407,
     "end_time": "2021-05-24T16:26:58.238178",
     "exception": false,
     "start_time": "2021-05-24T16:26:58.204108",
     "status": "completed"
    },
    "tags": []
   },
   "source": [
    "### As a Swiftie, the rest of the Data Analysis is based on her songs"
   ]
  },
  {
   "cell_type": "markdown",
   "id": "improved-naples",
   "metadata": {
    "papermill": {
     "duration": 0.033861,
     "end_time": "2021-05-24T16:26:58.306765",
     "exception": false,
     "start_time": "2021-05-24T16:26:58.272904",
     "status": "completed"
    },
    "tags": []
   },
   "source": [
    "### Let's get started :)"
   ]
  },
  {
   "cell_type": "markdown",
   "id": "social-organ",
   "metadata": {
    "papermill": {
     "duration": 0.033213,
     "end_time": "2021-05-24T16:26:58.373833",
     "exception": false,
     "start_time": "2021-05-24T16:26:58.340620",
     "status": "completed"
    },
    "tags": []
   },
   "source": [
    "## Finding the number of 1 appearances by Taylor Swift"
   ]
  },
  {
   "cell_type": "code",
   "execution_count": 11,
   "id": "brilliant-orchestra",
   "metadata": {
    "execution": {
     "iopub.execute_input": "2021-05-24T16:26:58.488034Z",
     "iopub.status.busy": "2021-05-24T16:26:58.487354Z",
     "iopub.status.idle": "2021-05-24T16:26:58.499627Z",
     "shell.execute_reply": "2021-05-24T16:26:58.500146Z",
     "shell.execute_reply.started": "2021-05-24T16:21:54.301082Z"
    },
    "papermill": {
     "duration": 0.092775,
     "end_time": "2021-05-24T16:26:58.500329",
     "exception": false,
     "start_time": "2021-05-24T16:26:58.407554",
     "status": "completed"
    },
    "tags": []
   },
   "outputs": [
    {
     "data": {
      "text/plain": [
       "19"
      ]
     },
     "execution_count": 11,
     "metadata": {},
     "output_type": "execute_result"
    }
   ],
   "source": [
    "df[(df['artist']=='Taylor Swift') & (df['rank']==1)].value_counts().sum()"
   ]
  },
  {
   "cell_type": "markdown",
   "id": "sized-webster",
   "metadata": {
    "papermill": {
     "duration": 0.03411,
     "end_time": "2021-05-24T16:26:58.569849",
     "exception": false,
     "start_time": "2021-05-24T16:26:58.535739",
     "status": "completed"
    },
    "tags": []
   },
   "source": [
    "## Frequency on Hot 100 chart"
   ]
  },
  {
   "cell_type": "code",
   "execution_count": 12,
   "id": "vertical-suggestion",
   "metadata": {
    "execution": {
     "iopub.execute_input": "2021-05-24T16:26:58.641916Z",
     "iopub.status.busy": "2021-05-24T16:26:58.641261Z",
     "iopub.status.idle": "2021-05-24T16:26:58.693878Z",
     "shell.execute_reply": "2021-05-24T16:26:58.694383Z",
     "shell.execute_reply.started": "2021-05-24T16:21:54.359612Z"
    },
    "papermill": {
     "duration": 0.090106,
     "end_time": "2021-05-24T16:26:58.694583",
     "exception": false,
     "start_time": "2021-05-24T16:26:58.604477",
     "status": "completed"
    },
    "tags": []
   },
   "outputs": [
    {
     "data": {
      "text/plain": [
       "1022"
      ]
     },
     "execution_count": 12,
     "metadata": {},
     "output_type": "execute_result"
    }
   ],
   "source": [
    "df[df['artist']=='Taylor Swift'].value_counts().sum()"
   ]
  },
  {
   "cell_type": "markdown",
   "id": "vocational-reserve",
   "metadata": {
    "papermill": {
     "duration": 0.034424,
     "end_time": "2021-05-24T16:26:58.763356",
     "exception": false,
     "start_time": "2021-05-24T16:26:58.728932",
     "status": "completed"
    },
    "tags": []
   },
   "source": [
    "## Songs having #1 at the charts"
   ]
  },
  {
   "cell_type": "code",
   "execution_count": 13,
   "id": "cubic-enforcement",
   "metadata": {
    "execution": {
     "iopub.execute_input": "2021-05-24T16:26:58.837245Z",
     "iopub.status.busy": "2021-05-24T16:26:58.836577Z",
     "iopub.status.idle": "2021-05-24T16:26:58.890515Z",
     "shell.execute_reply": "2021-05-24T16:26:58.889842Z",
     "shell.execute_reply.started": "2021-05-24T16:21:54.417282Z"
    },
    "papermill": {
     "duration": 0.091746,
     "end_time": "2021-05-24T16:26:58.890672",
     "exception": false,
     "start_time": "2021-05-24T16:26:58.798926",
     "status": "completed"
    },
    "tags": []
   },
   "outputs": [
    {
     "data": {
      "text/html": [
       "<div>\n",
       "<style scoped>\n",
       "    .dataframe tbody tr th:only-of-type {\n",
       "        vertical-align: middle;\n",
       "    }\n",
       "\n",
       "    .dataframe tbody tr th {\n",
       "        vertical-align: top;\n",
       "    }\n",
       "\n",
       "    .dataframe thead th {\n",
       "        text-align: right;\n",
       "    }\n",
       "</style>\n",
       "<table border=\"1\" class=\"dataframe\">\n",
       "  <thead>\n",
       "    <tr style=\"text-align: right;\">\n",
       "      <th></th>\n",
       "      <th>song</th>\n",
       "    </tr>\n",
       "  </thead>\n",
       "  <tbody>\n",
       "    <tr>\n",
       "      <th>Blank Space</th>\n",
       "      <td>7</td>\n",
       "    </tr>\n",
       "    <tr>\n",
       "      <th>Shake It Off</th>\n",
       "      <td>4</td>\n",
       "    </tr>\n",
       "    <tr>\n",
       "      <th>Look What You Made Me Do</th>\n",
       "      <td>3</td>\n",
       "    </tr>\n",
       "    <tr>\n",
       "      <th>We Are Never Ever Getting Back Together</th>\n",
       "      <td>3</td>\n",
       "    </tr>\n",
       "    <tr>\n",
       "      <th>Willow</th>\n",
       "      <td>1</td>\n",
       "    </tr>\n",
       "    <tr>\n",
       "      <th>Cardigan</th>\n",
       "      <td>1</td>\n",
       "    </tr>\n",
       "  </tbody>\n",
       "</table>\n",
       "</div>"
      ],
      "text/plain": [
       "                                         song\n",
       "Blank Space                                 7\n",
       "Shake It Off                                4\n",
       "Look What You Made Me Do                    3\n",
       "We Are Never Ever Getting Back Together     3\n",
       "Willow                                      1\n",
       "Cardigan                                    1"
      ]
     },
     "execution_count": 13,
     "metadata": {},
     "output_type": "execute_result"
    }
   ],
   "source": [
    "a = pd.DataFrame(df[(df['artist']=='Taylor Swift') & (df['rank']==1)]['song'].value_counts())\n",
    "a"
   ]
  },
  {
   "cell_type": "markdown",
   "id": "dimensional-bowling",
   "metadata": {
    "papermill": {
     "duration": 0.035115,
     "end_time": "2021-05-24T16:26:58.960921",
     "exception": false,
     "start_time": "2021-05-24T16:26:58.925806",
     "status": "completed"
    },
    "tags": []
   },
   "source": [
    "## Visualising the #1 Results"
   ]
  },
  {
   "cell_type": "code",
   "execution_count": 14,
   "id": "fabulous-words",
   "metadata": {
    "execution": {
     "iopub.execute_input": "2021-05-24T16:26:59.083389Z",
     "iopub.status.busy": "2021-05-24T16:26:59.082725Z",
     "iopub.status.idle": "2021-05-24T16:26:59.261709Z",
     "shell.execute_reply": "2021-05-24T16:26:59.261168Z",
     "shell.execute_reply.started": "2021-05-24T16:21:54.475130Z"
    },
    "papermill": {
     "duration": 0.265425,
     "end_time": "2021-05-24T16:26:59.261857",
     "exception": false,
     "start_time": "2021-05-24T16:26:58.996432",
     "status": "completed"
    },
    "tags": []
   },
   "outputs": [
    {
     "data": {
      "text/plain": [
       "<AxesSubplot:xlabel='count', ylabel='song'>"
      ]
     },
     "execution_count": 14,
     "metadata": {},
     "output_type": "execute_result"
    },
    {
     "data": {
      "image/png": "[encoded data removed]",
      "text/plain": [
       "<Figure size 576x576 with 1 Axes>"
      ]
     },
     "metadata": {
      "needs_background": "light"
     },
     "output_type": "display_data"
    }
   ],
   "source": [
    "plt.figure(figsize=(8,8))\n",
    "sns.countplot(y=df[(df['artist']=='Taylor Swift') & (df['rank']==1)]['song'],data=df)"
   ]
  },
  {
   "cell_type": "markdown",
   "id": "completed-moral",
   "metadata": {
    "papermill": {
     "duration": 0.036078,
     "end_time": "2021-05-24T16:26:59.334917",
     "exception": false,
     "start_time": "2021-05-24T16:26:59.298839",
     "status": "completed"
    },
    "tags": []
   },
   "source": [
    "## Top Songs peaking at #5 on the chart"
   ]
  },
  {
   "cell_type": "code",
   "execution_count": 15,
   "id": "romantic-interim",
   "metadata": {
    "execution": {
     "iopub.execute_input": "2021-05-24T16:26:59.453183Z",
     "iopub.status.busy": "2021-05-24T16:26:59.452474Z",
     "iopub.status.idle": "2021-05-24T16:26:59.466235Z",
     "shell.execute_reply": "2021-05-24T16:26:59.466737Z",
     "shell.execute_reply.started": "2021-05-24T16:21:54.742672Z"
    },
    "papermill": {
     "duration": 0.095987,
     "end_time": "2021-05-24T16:26:59.466911",
     "exception": false,
     "start_time": "2021-05-24T16:26:59.370924",
     "status": "completed"
    },
    "tags": []
   },
   "outputs": [
    {
     "data": {
      "text/html": [
       "<div>\n",
       "<style scoped>\n",
       "    .dataframe tbody tr th:only-of-type {\n",
       "        vertical-align: middle;\n",
       "    }\n",
       "\n",
       "    .dataframe tbody tr th {\n",
       "        vertical-align: top;\n",
       "    }\n",
       "\n",
       "    .dataframe thead th {\n",
       "        text-align: right;\n",
       "    }\n",
       "</style>\n",
       "<table border=\"1\" class=\"dataframe\">\n",
       "  <thead>\n",
       "    <tr style=\"text-align: right;\">\n",
       "      <th></th>\n",
       "      <th>Song Name</th>\n",
       "    </tr>\n",
       "  </thead>\n",
       "  <tbody>\n",
       "    <tr>\n",
       "      <th>0</th>\n",
       "      <td>Love Story</td>\n",
       "    </tr>\n",
       "    <tr>\n",
       "      <th>1</th>\n",
       "      <td>You Belong With Me</td>\n",
       "    </tr>\n",
       "    <tr>\n",
       "      <th>2</th>\n",
       "      <td>Today Was A Fairytale</td>\n",
       "    </tr>\n",
       "    <tr>\n",
       "      <th>3</th>\n",
       "      <td>Mine</td>\n",
       "    </tr>\n",
       "    <tr>\n",
       "      <th>4</th>\n",
       "      <td>We Are Never Ever Getting Back Together</td>\n",
       "    </tr>\n",
       "    <tr>\n",
       "      <th>5</th>\n",
       "      <td>I Knew You Were Trouble.</td>\n",
       "    </tr>\n",
       "    <tr>\n",
       "      <th>6</th>\n",
       "      <td>Shake It Off</td>\n",
       "    </tr>\n",
       "    <tr>\n",
       "      <th>7</th>\n",
       "      <td>Blank Space</td>\n",
       "    </tr>\n",
       "    <tr>\n",
       "      <th>8</th>\n",
       "      <td>Wildest Dreams</td>\n",
       "    </tr>\n",
       "    <tr>\n",
       "      <th>9</th>\n",
       "      <td>Look What You Made Me Do</td>\n",
       "    </tr>\n",
       "    <tr>\n",
       "      <th>10</th>\n",
       "      <td>...Ready For It?</td>\n",
       "    </tr>\n",
       "    <tr>\n",
       "      <th>11</th>\n",
       "      <td>You Need To Calm Down</td>\n",
       "    </tr>\n",
       "    <tr>\n",
       "      <th>12</th>\n",
       "      <td>Cardigan</td>\n",
       "    </tr>\n",
       "    <tr>\n",
       "      <th>13</th>\n",
       "      <td>The 1</td>\n",
       "    </tr>\n",
       "    <tr>\n",
       "      <th>14</th>\n",
       "      <td>Willow</td>\n",
       "    </tr>\n",
       "  </tbody>\n",
       "</table>\n",
       "</div>"
      ],
      "text/plain": [
       "                                  Song Name\n",
       "0                                Love Story\n",
       "1                        You Belong With Me\n",
       "2                     Today Was A Fairytale\n",
       "3                                      Mine\n",
       "4   We Are Never Ever Getting Back Together\n",
       "5                  I Knew You Were Trouble.\n",
       "6                              Shake It Off\n",
       "7                               Blank Space\n",
       "8                            Wildest Dreams\n",
       "9                  Look What You Made Me Do\n",
       "10                         ...Ready For It?\n",
       "11                    You Need To Calm Down\n",
       "12                                 Cardigan\n",
       "13                                    The 1\n",
       "14                                   Willow"
      ]
     },
     "execution_count": 15,
     "metadata": {},
     "output_type": "execute_result"
    }
   ],
   "source": [
    "b = pd.DataFrame(df[(df['artist']=='Taylor Swift') & (df['rank']<6) & (df['rank']>0)]['song'].unique())\n",
    "b.rename( columns={0 :'Song Name'}, inplace=True )\n",
    "b"
   ]
  },
  {
   "cell_type": "markdown",
   "id": "incomplete-linux",
   "metadata": {
    "papermill": {
     "duration": 0.036318,
     "end_time": "2021-05-24T16:26:59.539281",
     "exception": false,
     "start_time": "2021-05-24T16:26:59.502963",
     "status": "completed"
    },
    "tags": []
   },
   "source": [
    "## Visualization of #5 songs"
   ]
  },
  {
   "cell_type": "code",
   "execution_count": 16,
   "id": "embedded-nature",
   "metadata": {
    "execution": {
     "iopub.execute_input": "2021-05-24T16:26:59.659166Z",
     "iopub.status.busy": "2021-05-24T16:26:59.658442Z",
     "iopub.status.idle": "2021-05-24T16:26:59.914232Z",
     "shell.execute_reply": "2021-05-24T16:26:59.913731Z",
     "shell.execute_reply.started": "2021-05-24T16:21:54.803996Z"
    },
    "papermill": {
     "duration": 0.338905,
     "end_time": "2021-05-24T16:26:59.914373",
     "exception": false,
     "start_time": "2021-05-24T16:26:59.575468",
     "status": "completed"
    },
    "tags": []
   },
   "outputs": [
    {
     "data": {
      "text/plain": [
       "<AxesSubplot:xlabel='count', ylabel='song'>"
      ]
     },
     "execution_count": 16,
     "metadata": {},
     "output_type": "execute_result"
    },
    {
     "data": {
      "image/png": "[encoded data removed]",
      "text/plain": [
       "<Figure size 576x576 with 1 Axes>"
      ]
     },
     "metadata": {
      "needs_background": "light"
     },
     "output_type": "display_data"
    }
   ],
   "source": [
    "plt.figure(figsize=(8,8))\n",
    "sns.countplot(y=df[(df['artist']=='Taylor Swift')& (df['rank']<6) & (df['rank']>0)]['song'],data=df)"
   ]
  },
  {
   "cell_type": "markdown",
   "id": "stretch-ceremony",
   "metadata": {
    "papermill": {
     "duration": 0.038001,
     "end_time": "2021-05-24T16:26:59.990175",
     "exception": false,
     "start_time": "2021-05-24T16:26:59.952174",
     "status": "completed"
    },
    "tags": []
   },
   "source": [
    "## Performance Analysis of her Top 6 songs"
   ]
  },
  {
   "cell_type": "markdown",
   "id": "fixed-nerve",
   "metadata": {
    "papermill": {
     "duration": 0.04033,
     "end_time": "2021-05-24T16:27:00.071352",
     "exception": false,
     "start_time": "2021-05-24T16:27:00.031022",
     "status": "completed"
    },
    "tags": []
   },
   "source": [
    "###  Performance analysis of Blank Space"
   ]
  },
  {
   "cell_type": "code",
   "execution_count": 17,
   "id": "tamil-adapter",
   "metadata": {
    "execution": {
     "iopub.execute_input": "2021-05-24T16:27:00.238598Z",
     "iopub.status.busy": "2021-05-24T16:27:00.237525Z",
     "iopub.status.idle": "2021-05-24T16:27:00.573520Z",
     "shell.execute_reply": "2021-05-24T16:27:00.574061Z",
     "shell.execute_reply.started": "2021-05-24T16:21:55.153548Z"
    },
    "papermill": {
     "duration": 0.464425,
     "end_time": "2021-05-24T16:27:00.574244",
     "exception": false,
     "start_time": "2021-05-24T16:27:00.109819",
     "status": "completed"
    },
    "tags": []
   },
   "outputs": [
    {
     "data": {
      "text/plain": [
       "<AxesSubplot:xlabel='date', ylabel='rank'>"
      ]
     },
     "execution_count": 17,
     "metadata": {},
     "output_type": "execute_result"
    },
    {
     "data": {
      "image/png": "[encoded data removed]",
      "text/plain": [
       "<Figure size 576x432 with 1 Axes>"
      ]
     },
     "metadata": {
      "needs_background": "light"
     },
     "output_type": "display_data"
    }
   ],
   "source": [
    "plt.figure(figsize=(8,6))\n",
    "sns.set_theme()\n",
    "b_s = df[(df['song']=='Blank Space') & (df['artist']=='Taylor Swift')][['rank','date']]\n",
    "sns.lineplot(x='date',y='rank',data=b_s)"
   ]
  },
  {
   "cell_type": "markdown",
   "id": "agreed-greeting",
   "metadata": {
    "papermill": {
     "duration": 0.038498,
     "end_time": "2021-05-24T16:27:00.651769",
     "exception": false,
     "start_time": "2021-05-24T16:27:00.613271",
     "status": "completed"
    },
    "tags": []
   },
   "source": [
    "### Performance analysis of Shake It Off"
   ]
  },
  {
   "cell_type": "code",
   "execution_count": 18,
   "id": "positive-right",
   "metadata": {
    "execution": {
     "iopub.execute_input": "2021-05-24T16:27:00.778195Z",
     "iopub.status.busy": "2021-05-24T16:27:00.777476Z",
     "iopub.status.idle": "2021-05-24T16:27:01.139132Z",
     "shell.execute_reply": "2021-05-24T16:27:01.139630Z",
     "shell.execute_reply.started": "2021-05-24T16:21:55.555719Z"
    },
    "papermill": {
     "duration": 0.448616,
     "end_time": "2021-05-24T16:27:01.139812",
     "exception": false,
     "start_time": "2021-05-24T16:27:00.691196",
     "status": "completed"
    },
    "tags": []
   },
   "outputs": [
    {
     "data": {
      "text/plain": [
       "<AxesSubplot:xlabel='date', ylabel='rank'>"
      ]
     },
     "execution_count": 18,
     "metadata": {},
     "output_type": "execute_result"
    },
    {
     "data": {
      "image/png": "[encoded data removed]",
      "text/plain": [
       "<Figure size 576x432 with 1 Axes>"
      ]
     },
     "metadata": {},
     "output_type": "display_data"
    }
   ],
   "source": [
    "plt.figure(figsize=(8,6))\n",
    "sns.set_theme()\n",
    "b_s = df[(df['song']=='Shake It Off') & (df['artist']=='Taylor Swift')][['rank','date']]\n",
    "sns.lineplot(x='date',y='rank',data=b_s)"
   ]
  },
  {
   "cell_type": "markdown",
   "id": "grateful-isolation",
   "metadata": {
    "papermill": {
     "duration": 0.041102,
     "end_time": "2021-05-24T16:27:01.222902",
     "exception": false,
     "start_time": "2021-05-24T16:27:01.181800",
     "status": "completed"
    },
    "tags": []
   },
   "source": [
    "### Performance analysis of Look What You Made Me Do"
   ]
  },
  {
   "cell_type": "code",
   "execution_count": 19,
   "id": "annoying-decade",
   "metadata": {
    "execution": {
     "iopub.execute_input": "2021-05-24T16:27:01.307634Z",
     "iopub.status.busy": "2021-05-24T16:27:01.306896Z",
     "iopub.status.idle": "2021-05-24T16:27:01.865705Z",
     "shell.execute_reply": "2021-05-24T16:27:01.865116Z",
     "shell.execute_reply.started": "2021-05-24T16:21:55.961280Z"
    },
    "papermill": {
     "duration": 0.60222,
     "end_time": "2021-05-24T16:27:01.865855",
     "exception": false,
     "start_time": "2021-05-24T16:27:01.263635",
     "status": "completed"
    },
    "tags": []
   },
   "outputs": [
    {
     "data": {
      "text/plain": [
       "<AxesSubplot:xlabel='date', ylabel='rank'>"
      ]
     },
     "execution_count": 19,
     "metadata": {},
     "output_type": "execute_result"
    },
    {
     "data": {
      "image/png": "[encoded data removed]",
      "text/plain": [
       "<Figure size 864x432 with 1 Axes>"
      ]
     },
     "metadata": {},
     "output_type": "display_data"
    }
   ],
   "source": [
    "plt.figure(figsize=(12,6))\n",
    "sns.set_theme()\n",
    "b_s = df[(df['song']=='Look What You Made Me Do') & (df['artist']=='Taylor Swift')][['rank','date']]\n",
    "sns.lineplot(x='date',y='rank',data=b_s)"
   ]
  },
  {
   "cell_type": "markdown",
   "id": "global-richards",
   "metadata": {
    "papermill": {
     "duration": 0.046295,
     "end_time": "2021-05-24T16:27:01.955145",
     "exception": false,
     "start_time": "2021-05-24T16:27:01.908850",
     "status": "completed"
    },
    "tags": []
   },
   "source": [
    "### Performance analysis of We Are Never Ever Getting Back Together"
   ]
  },
  {
   "cell_type": "code",
   "execution_count": 20,
   "id": "racial-fantasy",
   "metadata": {
    "execution": {
     "iopub.execute_input": "2021-05-24T16:27:02.145500Z",
     "iopub.status.busy": "2021-05-24T16:27:02.102380Z",
     "iopub.status.idle": "2021-05-24T16:27:02.560723Z",
     "shell.execute_reply": "2021-05-24T16:27:02.561238Z",
     "shell.execute_reply.started": "2021-05-24T16:21:56.439127Z"
    },
    "papermill": {
     "duration": 0.550747,
     "end_time": "2021-05-24T16:27:02.561413",
     "exception": false,
     "start_time": "2021-05-24T16:27:02.010666",
     "status": "completed"
    },
    "tags": []
   },
   "outputs": [
    {
     "data": {
      "text/plain": [
       "<AxesSubplot:xlabel='date', ylabel='rank'>"
      ]
     },
     "execution_count": 20,
     "metadata": {},
     "output_type": "execute_result"
    },
    {
     "data": {
      "image/png": "[encoded data removed]",
      "text/plain": [
       "<Figure size 576x432 with 1 Axes>"
      ]
     },
     "metadata": {},
     "output_type": "display_data"
    }
   ],
   "source": [
    "plt.figure(figsize=(8,6))\n",
    "sns.set_theme()\n",
    "b_s = df[(df['song']=='We Are Never Ever Getting Back Together') & (df['artist']=='Taylor Swift')][['rank','date']]\n",
    "sns.lineplot(x='date',y='rank',data=b_s)"
   ]
  },
  {
   "cell_type": "markdown",
   "id": "hearing-british",
   "metadata": {
    "papermill": {
     "duration": 0.042849,
     "end_time": "2021-05-24T16:27:02.647794",
     "exception": false,
     "start_time": "2021-05-24T16:27:02.604945",
     "status": "completed"
    },
    "tags": []
   },
   "source": [
    "### Performance analysis of Cardigan"
   ]
  },
  {
   "cell_type": "code",
   "execution_count": 21,
   "id": "molecular-costa",
   "metadata": {
    "execution": {
     "iopub.execute_input": "2021-05-24T16:27:02.846885Z",
     "iopub.status.busy": "2021-05-24T16:27:02.846169Z",
     "iopub.status.idle": "2021-05-24T16:27:03.168425Z",
     "shell.execute_reply": "2021-05-24T16:27:03.167890Z",
     "shell.execute_reply.started": "2021-05-24T16:21:56.813630Z"
    },
    "papermill": {
     "duration": 0.476714,
     "end_time": "2021-05-24T16:27:03.168604",
     "exception": false,
     "start_time": "2021-05-24T16:27:02.691890",
     "status": "completed"
    },
    "tags": []
   },
   "outputs": [
    {
     "data": {
      "text/plain": [
       "<AxesSubplot:xlabel='date', ylabel='rank'>"
      ]
     },
     "execution_count": 21,
     "metadata": {},
     "output_type": "execute_result"
    },
    {
     "data": {
      "image/png": "[encoded data removed]",
      "text/plain": [
       "<Figure size 648x432 with 1 Axes>"
      ]
     },
     "metadata": {},
     "output_type": "display_data"
    }
   ],
   "source": [
    "plt.figure(figsize=(9,6))\n",
    "sns.set_theme()\n",
    "b_s = df[(df['song']=='Cardigan') & (df['artist']=='Taylor Swift')][['rank','date']]\n",
    "sns.lineplot(x='date',y='rank',data=b_s)"
   ]
  },
  {
   "cell_type": "markdown",
   "id": "lasting-stick",
   "metadata": {
    "papermill": {
     "duration": 0.044944,
     "end_time": "2021-05-24T16:27:03.258987",
     "exception": false,
     "start_time": "2021-05-24T16:27:03.214043",
     "status": "completed"
    },
    "tags": []
   },
   "source": [
    "### Performance analysis of Willow"
   ]
  },
  {
   "cell_type": "code",
   "execution_count": 22,
   "id": "worthy-forestry",
   "metadata": {
    "execution": {
     "iopub.execute_input": "2021-05-24T16:27:03.437548Z",
     "iopub.status.busy": "2021-05-24T16:27:03.436445Z",
     "iopub.status.idle": "2021-05-24T16:27:03.835242Z",
     "shell.execute_reply": "2021-05-24T16:27:03.834684Z",
     "shell.execute_reply.started": "2021-05-24T16:21:57.217067Z"
    },
    "papermill": {
     "duration": 0.532199,
     "end_time": "2021-05-24T16:27:03.835384",
     "exception": false,
     "start_time": "2021-05-24T16:27:03.303185",
     "status": "completed"
    },
    "tags": []
   },
   "outputs": [
    {
     "data": {
      "text/plain": [
       "<AxesSubplot:xlabel='date', ylabel='rank'>"
      ]
     },
     "execution_count": 22,
     "metadata": {},
     "output_type": "execute_result"
    },
    {
     "data": {
      "image/png": "[encoded data removed]",
      "text/plain": [
       "<Figure size 864x432 with 1 Axes>"
      ]
     },
     "metadata": {},
     "output_type": "display_data"
    }
   ],
   "source": [
    "plt.figure(figsize=(12,6))\n",
    "sns.set_theme()\n",
    "b_s = df[(df['song']=='Willow') & (df['artist']=='Taylor Swift')][['rank','date']]\n",
    "sns.lineplot(x='date',y='rank',data=b_s)"
   ]
  },
  {
   "cell_type": "markdown",
   "id": "amateur-might",
   "metadata": {
    "papermill": {
     "duration": 0.048249,
     "end_time": "2021-05-24T16:27:03.931769",
     "exception": false,
     "start_time": "2021-05-24T16:27:03.883520",
     "status": "completed"
    },
    "tags": []
   },
   "source": [
    "### Thanks for viewing my notebook\n",
    "### Have a nice day\n",
    "### If you have suggestions for improvements, comment down below"
   ]
  },
  {
   "cell_type": "code",
   "execution_count": null,
   "id": "industrial-oxford",
   "metadata": {
    "papermill": {
     "duration": 0.045908,
     "end_time": "2021-05-24T16:27:04.025931",
     "exception": false,
     "start_time": "2021-05-24T16:27:03.980023",
     "status": "completed"
    },
    "tags": []
   },
   "outputs": [],
   "source": []
  }
 ],
 "metadata": {
  "kernelspec": {
   "display_name": "Python 3",
   "language": "python",
   "name": "python3"
  },
  "language_info": {
   "codemirror_mode": {
    "name": "ipython",
    "version": 3
   },
   "file_extension": ".py",
   "mimetype": "text/x-python",
   "name": "python",
   "nbconvert_exporter": "python",
   "pygments_lexer": "ipython3",
   "version": "3.7.10"
  },
  "papermill": {
   "default_parameters": {},
   "duration": 22.592273,
   "end_time": "2021-05-24T16:27:04.881924",
   "environment_variables": {},
   "exception": null,
   "input_path": "__notebook__.ipynb",
   "output_path": "__notebook__.ipynb",
   "parameters": {},
   "start_time": "2021-05-24T16:26:42.289651",
   "version": "2.3.3"
  }
 },
 "nbformat": 4,
 "nbformat_minor": 5
}
